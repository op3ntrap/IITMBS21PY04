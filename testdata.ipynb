{
 "cells": [
  {
   "cell_type": "code",
   "execution_count": 1,
   "metadata": {},
   "outputs": [],
   "source": [
    "\"\"\"\n",
    "Input\n",
    "The first line contains an integer T denoting the number of test cases. Each of the next\n",
    "T lines contains two integers N and K , the number of customers that plan\n",
    "to visit the chef's restaurant and the number of compartments the restaurant\n",
    "is divided into respectively. Each of the next N lines contains three integers\n",
    "si, fi and pi , the arrival time, departure time and the strongly preferred compartment\n",
    "of the ith customer respectively.\n",
    "Note that the ith customer wants to occupy the pith compartment from [si, fi)\n",
    "i.e the ith customer leaves just before\n",
    "fi so that another customer can occupy that compartment from fi onwards.\n",
    "\"\"\"\n",
    "# TODO T\n",
    "# TODO N K\n",
    "# TODO N lines (Si, Fi, Pi)\n",
    "\n",
    "from collections import defaultdict\n",
    "from sys import stdin, stdout\n",
    "from typing import List, DefaultDict\n",
    "\n",
    "\n",
    "class myIO:\n",
    "    def __init__(self):\n",
    "        pass\n",
    "\n",
    "    def print_ans(self, answer):\n",
    "        if type(answer) != str:\n",
    "            stdout.write(str(answer))\n",
    "        else:\n",
    "            stdout.write(answer)\n",
    "\n",
    "    def read_var(self):\n",
    "        var = int(stdin.readline().strip())\n",
    "        return var\n",
    "\n",
    "    def read_list(self) -> List[int]:\n",
    "        var_seq = list(map(int, stdin.readline().strip().split(\" \")))\n",
    "        return var_seq\n",
    "\n",
    "    def read_pairs(self):\n",
    "        a, b = tuple(map(int, stdin.readline().strip().split(\" \")))\n",
    "        return a, b\n",
    "\n",
    "\n",
    "io = myIO()\n",
    "\n",
    "\n",
    "def process(x: int, y: int, z: List) -> int:\n",
    "    \"\"\"\n",
    "    process\n",
    "    :param x: number of customers\n",
    "    :param y: number of compartments\n",
    "    :param z: directory of customers\n",
    "    :return: max seating possible within time frame.\n",
    "    \"\"\"\n",
    "    # c_data = [defaultdict(dict)] * k\n",
    "    ledger: List[int] = [defaultdict(list)] * y\n",
    "    for dd in z:\n",
    "        dur = dd[1] - dd[0]\n",
    "        # K { 1,2,......K}\n",
    "        comp = dd[2] - 1\n",
    "        ledger[comp][dur].append(dd[0], dd[1])\n",
    "    return 0\n",
    "\n",
    "\n",
    "def solve():\n",
    "    t = io.read_var()\n",
    "    for _ in range(t):\n",
    "        n, k = io.read_pairs()\n",
    "        c_data = []\n",
    "        for booking in range(n):\n",
    "            dd = io.read_list()\n",
    "            c_data.append(dd)\n",
    "        max_cust = process(n, k, c_data)"
   ]
  },
  {
   "cell_type": "code",
   "execution_count": null,
   "metadata": {},
   "outputs": [],
   "source": []
  },
  {
   "cell_type": "code",
   "execution_count": 1,
   "metadata": {},
   "outputs": [],
   "source": [
    "import numpy as np\n",
    "\n",
    "a = [\n",
    "    [0.1, 0.2, 0.3, 0.4],\n",
    "    [-0.1, -0.2, -0.3, -0.4],\n",
    "    [0.1, 0.0 ** 2, 0.1 ** 3, 0.1 ** 4],\n",
    "    [0.25, 0.25, 0.25, 0.25],\n",
    "]"
   ]
  },
  {
   "cell_type": "code",
   "execution_count": 5,
   "metadata": {},
   "outputs": [],
   "source": [
    "b = [[0, 0], [0, 9], [9, 9], [9, 0]]"
   ]
  },
  {
   "cell_type": "code",
   "execution_count": 6,
   "metadata": {},
   "outputs": [
    {
     "data": {
      "text/plain": [
       "array([[ 6.3   ,  4.5   ],\n",
       "       [-6.3   , -4.5   ],\n",
       "       [ 0.0099,  0.009 ],\n",
       "       [ 4.5   ,  4.5   ]])"
      ]
     },
     "execution_count": 6,
     "metadata": {},
     "output_type": "execute_result"
    }
   ],
   "source": [
    "np.dot(a,b)"
   ]
  },
  {
   "cell_type": "code",
   "execution_count": null,
   "metadata": {},
   "outputs": [],
   "source": []
  }
 ],
 "metadata": {
  "kernelspec": {
   "display_name": "Python 3 (ipykernel)",
   "language": "python",
   "name": "python3"
  },
  "language_info": {
   "codemirror_mode": {
    "name": "ipython",
    "version": 3
   },
   "file_extension": ".py",
   "mimetype": "text/x-python",
   "name": "python",
   "nbconvert_exporter": "python",
   "pygments_lexer": "ipython3",
   "version": "3.9.6"
  },
  "widgets": {
   "application/vnd.jupyter.widget-state+json": {
    "state": {},
    "version_major": 2,
    "version_minor": 0
   }
  }
 },
 "nbformat": 4,
 "nbformat_minor": 4
}
